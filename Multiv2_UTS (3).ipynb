{
  "nbformat": 4,
  "nbformat_minor": 0,
  "metadata": {
    "colab": {
      "name": "Multiv2_UTS.ipynb",
      "provenance": [],
      "collapsed_sections": []
    },
    "kernelspec": {
      "name": "python3",
      "display_name": "Python 3"
    },
    "language_info": {
      "name": "python"
    }
  },
  "cells": [
    {
      "cell_type": "markdown",
      "metadata": {
        "id": "VA_77NWQKAZ-"
      },
      "source": [
        "## Proyek UTS Multivariat 2"
      ]
    },
    {
      "cell_type": "code",
      "metadata": {
        "id": "8fUJ2zFGrfeG"
      },
      "source": [
        "#import important packages\n",
        "\n",
        "import pandas as pd\n",
        "import io"
      ],
      "execution_count": 1,
      "outputs": []
    },
    {
      "cell_type": "code",
      "metadata": {
        "id": "phwDG9CgCeIf"
      },
      "source": [
        "from google.colab import files"
      ],
      "execution_count": 2,
      "outputs": []
    },
    {
      "cell_type": "code",
      "metadata": {
        "colab": {
          "resources": {
            "http://localhost:8080/nbextensions/google.colab/files.js": {
              "data": "Ly8gQ29weXJpZ2h0IDIwMTcgR29vZ2xlIExMQwovLwovLyBMaWNlbnNlZCB1bmRlciB0aGUgQXBhY2hlIExpY2Vuc2UsIFZlcnNpb24gMi4wICh0aGUgIkxpY2Vuc2UiKTsKLy8geW91IG1heSBub3QgdXNlIHRoaXMgZmlsZSBleGNlcHQgaW4gY29tcGxpYW5jZSB3aXRoIHRoZSBMaWNlbnNlLgovLyBZb3UgbWF5IG9idGFpbiBhIGNvcHkgb2YgdGhlIExpY2Vuc2UgYXQKLy8KLy8gICAgICBodHRwOi8vd3d3LmFwYWNoZS5vcmcvbGljZW5zZXMvTElDRU5TRS0yLjAKLy8KLy8gVW5sZXNzIHJlcXVpcmVkIGJ5IGFwcGxpY2FibGUgbGF3IG9yIGFncmVlZCB0byBpbiB3cml0aW5nLCBzb2Z0d2FyZQovLyBkaXN0cmlidXRlZCB1bmRlciB0aGUgTGljZW5zZSBpcyBkaXN0cmlidXRlZCBvbiBhbiAiQVMgSVMiIEJBU0lTLAovLyBXSVRIT1VUIFdBUlJBTlRJRVMgT1IgQ09ORElUSU9OUyBPRiBBTlkgS0lORCwgZWl0aGVyIGV4cHJlc3Mgb3IgaW1wbGllZC4KLy8gU2VlIHRoZSBMaWNlbnNlIGZvciB0aGUgc3BlY2lmaWMgbGFuZ3VhZ2UgZ292ZXJuaW5nIHBlcm1pc3Npb25zIGFuZAovLyBsaW1pdGF0aW9ucyB1bmRlciB0aGUgTGljZW5zZS4KCi8qKgogKiBAZmlsZW92ZXJ2aWV3IEhlbHBlcnMgZm9yIGdvb2dsZS5jb2xhYiBQeXRob24gbW9kdWxlLgogKi8KKGZ1bmN0aW9uKHNjb3BlKSB7CmZ1bmN0aW9uIHNwYW4odGV4dCwgc3R5bGVBdHRyaWJ1dGVzID0ge30pIHsKICBjb25zdCBlbGVtZW50ID0gZG9jdW1lbnQuY3JlYXRlRWxlbWVudCgnc3BhbicpOwogIGVsZW1lbnQudGV4dENvbnRlbnQgPSB0ZXh0OwogIGZvciAoY29uc3Qga2V5IG9mIE9iamVjdC5rZXlzKHN0eWxlQXR0cmlidXRlcykpIHsKICAgIGVsZW1lbnQuc3R5bGVba2V5XSA9IHN0eWxlQXR0cmlidXRlc1trZXldOwogIH0KICByZXR1cm4gZWxlbWVudDsKfQoKLy8gTWF4IG51bWJlciBvZiBieXRlcyB3aGljaCB3aWxsIGJlIHVwbG9hZGVkIGF0IGEgdGltZS4KY29uc3QgTUFYX1BBWUxPQURfU0laRSA9IDEwMCAqIDEwMjQ7CgpmdW5jdGlvbiBfdXBsb2FkRmlsZXMoaW5wdXRJZCwgb3V0cHV0SWQpIHsKICBjb25zdCBzdGVwcyA9IHVwbG9hZEZpbGVzU3RlcChpbnB1dElkLCBvdXRwdXRJZCk7CiAgY29uc3Qgb3V0cHV0RWxlbWVudCA9IGRvY3VtZW50LmdldEVsZW1lbnRCeUlkKG91dHB1dElkKTsKICAvLyBDYWNoZSBzdGVwcyBvbiB0aGUgb3V0cHV0RWxlbWVudCB0byBtYWtlIGl0IGF2YWlsYWJsZSBmb3IgdGhlIG5leHQgY2FsbAogIC8vIHRvIHVwbG9hZEZpbGVzQ29udGludWUgZnJvbSBQeXRob24uCiAgb3V0cHV0RWxlbWVudC5zdGVwcyA9IHN0ZXBzOwoKICByZXR1cm4gX3VwbG9hZEZpbGVzQ29udGludWUob3V0cHV0SWQpOwp9CgovLyBUaGlzIGlzIHJvdWdobHkgYW4gYXN5bmMgZ2VuZXJhdG9yIChub3Qgc3VwcG9ydGVkIGluIHRoZSBicm93c2VyIHlldCksCi8vIHdoZXJlIHRoZXJlIGFyZSBtdWx0aXBsZSBhc3luY2hyb25vdXMgc3RlcHMgYW5kIHRoZSBQeXRob24gc2lkZSBpcyBnb2luZwovLyB0byBwb2xsIGZvciBjb21wbGV0aW9uIG9mIGVhY2ggc3RlcC4KLy8gVGhpcyB1c2VzIGEgUHJvbWlzZSB0byBibG9jayB0aGUgcHl0aG9uIHNpZGUgb24gY29tcGxldGlvbiBvZiBlYWNoIHN0ZXAsCi8vIHRoZW4gcGFzc2VzIHRoZSByZXN1bHQgb2YgdGhlIHByZXZpb3VzIHN0ZXAgYXMgdGhlIGlucHV0IHRvIHRoZSBuZXh0IHN0ZXAuCmZ1bmN0aW9uIF91cGxvYWRGaWxlc0NvbnRpbnVlKG91dHB1dElkKSB7CiAgY29uc3Qgb3V0cHV0RWxlbWVudCA9IGRvY3VtZW50LmdldEVsZW1lbnRCeUlkKG91dHB1dElkKTsKICBjb25zdCBzdGVwcyA9IG91dHB1dEVsZW1lbnQuc3RlcHM7CgogIGNvbnN0IG5leHQgPSBzdGVwcy5uZXh0KG91dHB1dEVsZW1lbnQubGFzdFByb21pc2VWYWx1ZSk7CiAgcmV0dXJuIFByb21pc2UucmVzb2x2ZShuZXh0LnZhbHVlLnByb21pc2UpLnRoZW4oKHZhbHVlKSA9PiB7CiAgICAvLyBDYWNoZSB0aGUgbGFzdCBwcm9taXNlIHZhbHVlIHRvIG1ha2UgaXQgYXZhaWxhYmxlIHRvIHRoZSBuZXh0CiAgICAvLyBzdGVwIG9mIHRoZSBnZW5lcmF0b3IuCiAgICBvdXRwdXRFbGVtZW50Lmxhc3RQcm9taXNlVmFsdWUgPSB2YWx1ZTsKICAgIHJldHVybiBuZXh0LnZhbHVlLnJlc3BvbnNlOwogIH0pOwp9CgovKioKICogR2VuZXJhdG9yIGZ1bmN0aW9uIHdoaWNoIGlzIGNhbGxlZCBiZXR3ZWVuIGVhY2ggYXN5bmMgc3RlcCBvZiB0aGUgdXBsb2FkCiAqIHByb2Nlc3MuCiAqIEBwYXJhbSB7c3RyaW5nfSBpbnB1dElkIEVsZW1lbnQgSUQgb2YgdGhlIGlucHV0IGZpbGUgcGlja2VyIGVsZW1lbnQuCiAqIEBwYXJhbSB7c3RyaW5nfSBvdXRwdXRJZCBFbGVtZW50IElEIG9mIHRoZSBvdXRwdXQgZGlzcGxheS4KICogQHJldHVybiB7IUl0ZXJhYmxlPCFPYmplY3Q+fSBJdGVyYWJsZSBvZiBuZXh0IHN0ZXBzLgogKi8KZnVuY3Rpb24qIHVwbG9hZEZpbGVzU3RlcChpbnB1dElkLCBvdXRwdXRJZCkgewogIGNvbnN0IGlucHV0RWxlbWVudCA9IGRvY3VtZW50LmdldEVsZW1lbnRCeUlkKGlucHV0SWQpOwogIGlucHV0RWxlbWVudC5kaXNhYmxlZCA9IGZhbHNlOwoKICBjb25zdCBvdXRwdXRFbGVtZW50ID0gZG9jdW1lbnQuZ2V0RWxlbWVudEJ5SWQob3V0cHV0SWQpOwogIG91dHB1dEVsZW1lbnQuaW5uZXJIVE1MID0gJyc7CgogIGNvbnN0IHBpY2tlZFByb21pc2UgPSBuZXcgUHJvbWlzZSgocmVzb2x2ZSkgPT4gewogICAgaW5wdXRFbGVtZW50LmFkZEV2ZW50TGlzdGVuZXIoJ2NoYW5nZScsIChlKSA9PiB7CiAgICAgIHJlc29sdmUoZS50YXJnZXQuZmlsZXMpOwogICAgfSk7CiAgfSk7CgogIGNvbnN0IGNhbmNlbCA9IGRvY3VtZW50LmNyZWF0ZUVsZW1lbnQoJ2J1dHRvbicpOwogIGlucHV0RWxlbWVudC5wYXJlbnRFbGVtZW50LmFwcGVuZENoaWxkKGNhbmNlbCk7CiAgY2FuY2VsLnRleHRDb250ZW50ID0gJ0NhbmNlbCB1cGxvYWQnOwogIGNvbnN0IGNhbmNlbFByb21pc2UgPSBuZXcgUHJvbWlzZSgocmVzb2x2ZSkgPT4gewogICAgY2FuY2VsLm9uY2xpY2sgPSAoKSA9PiB7CiAgICAgIHJlc29sdmUobnVsbCk7CiAgICB9OwogIH0pOwoKICAvLyBXYWl0IGZvciB0aGUgdXNlciB0byBwaWNrIHRoZSBmaWxlcy4KICBjb25zdCBmaWxlcyA9IHlpZWxkIHsKICAgIHByb21pc2U6IFByb21pc2UucmFjZShbcGlja2VkUHJvbWlzZSwgY2FuY2VsUHJvbWlzZV0pLAogICAgcmVzcG9uc2U6IHsKICAgICAgYWN0aW9uOiAnc3RhcnRpbmcnLAogICAgfQogIH07CgogIGNhbmNlbC5yZW1vdmUoKTsKCiAgLy8gRGlzYWJsZSB0aGUgaW5wdXQgZWxlbWVudCBzaW5jZSBmdXJ0aGVyIHBpY2tzIGFyZSBub3QgYWxsb3dlZC4KICBpbnB1dEVsZW1lbnQuZGlzYWJsZWQgPSB0cnVlOwoKICBpZiAoIWZpbGVzKSB7CiAgICByZXR1cm4gewogICAgICByZXNwb25zZTogewogICAgICAgIGFjdGlvbjogJ2NvbXBsZXRlJywKICAgICAgfQogICAgfTsKICB9CgogIGZvciAoY29uc3QgZmlsZSBvZiBmaWxlcykgewogICAgY29uc3QgbGkgPSBkb2N1bWVudC5jcmVhdGVFbGVtZW50KCdsaScpOwogICAgbGkuYXBwZW5kKHNwYW4oZmlsZS5uYW1lLCB7Zm9udFdlaWdodDogJ2JvbGQnfSkpOwogICAgbGkuYXBwZW5kKHNwYW4oCiAgICAgICAgYCgke2ZpbGUudHlwZSB8fCAnbi9hJ30pIC0gJHtmaWxlLnNpemV9IGJ5dGVzLCBgICsKICAgICAgICBgbGFzdCBtb2RpZmllZDogJHsKICAgICAgICAgICAgZmlsZS5sYXN0TW9kaWZpZWREYXRlID8gZmlsZS5sYXN0TW9kaWZpZWREYXRlLnRvTG9jYWxlRGF0ZVN0cmluZygpIDoKICAgICAgICAgICAgICAgICAgICAgICAgICAgICAgICAgICAgJ24vYSd9IC0gYCkpOwogICAgY29uc3QgcGVyY2VudCA9IHNwYW4oJzAlIGRvbmUnKTsKICAgIGxpLmFwcGVuZENoaWxkKHBlcmNlbnQpOwoKICAgIG91dHB1dEVsZW1lbnQuYXBwZW5kQ2hpbGQobGkpOwoKICAgIGNvbnN0IGZpbGVEYXRhUHJvbWlzZSA9IG5ldyBQcm9taXNlKChyZXNvbHZlKSA9PiB7CiAgICAgIGNvbnN0IHJlYWRlciA9IG5ldyBGaWxlUmVhZGVyKCk7CiAgICAgIHJlYWRlci5vbmxvYWQgPSAoZSkgPT4gewogICAgICAgIHJlc29sdmUoZS50YXJnZXQucmVzdWx0KTsKICAgICAgfTsKICAgICAgcmVhZGVyLnJlYWRBc0FycmF5QnVmZmVyKGZpbGUpOwogICAgfSk7CiAgICAvLyBXYWl0IGZvciB0aGUgZGF0YSB0byBiZSByZWFkeS4KICAgIGxldCBmaWxlRGF0YSA9IHlpZWxkIHsKICAgICAgcHJvbWlzZTogZmlsZURhdGFQcm9taXNlLAogICAgICByZXNwb25zZTogewogICAgICAgIGFjdGlvbjogJ2NvbnRpbnVlJywKICAgICAgfQogICAgfTsKCiAgICAvLyBVc2UgYSBjaHVua2VkIHNlbmRpbmcgdG8gYXZvaWQgbWVzc2FnZSBzaXplIGxpbWl0cy4gU2VlIGIvNjIxMTU2NjAuCiAgICBsZXQgcG9zaXRpb24gPSAwOwogICAgd2hpbGUgKHBvc2l0aW9uIDwgZmlsZURhdGEuYnl0ZUxlbmd0aCkgewogICAgICBjb25zdCBsZW5ndGggPSBNYXRoLm1pbihmaWxlRGF0YS5ieXRlTGVuZ3RoIC0gcG9zaXRpb24sIE1BWF9QQVlMT0FEX1NJWkUpOwogICAgICBjb25zdCBjaHVuayA9IG5ldyBVaW50OEFycmF5KGZpbGVEYXRhLCBwb3NpdGlvbiwgbGVuZ3RoKTsKICAgICAgcG9zaXRpb24gKz0gbGVuZ3RoOwoKICAgICAgY29uc3QgYmFzZTY0ID0gYnRvYShTdHJpbmcuZnJvbUNoYXJDb2RlLmFwcGx5KG51bGwsIGNodW5rKSk7CiAgICAgIHlpZWxkIHsKICAgICAgICByZXNwb25zZTogewogICAgICAgICAgYWN0aW9uOiAnYXBwZW5kJywKICAgICAgICAgIGZpbGU6IGZpbGUubmFtZSwKICAgICAgICAgIGRhdGE6IGJhc2U2NCwKICAgICAgICB9LAogICAgICB9OwogICAgICBwZXJjZW50LnRleHRDb250ZW50ID0KICAgICAgICAgIGAke01hdGgucm91bmQoKHBvc2l0aW9uIC8gZmlsZURhdGEuYnl0ZUxlbmd0aCkgKiAxMDApfSUgZG9uZWA7CiAgICB9CiAgfQoKICAvLyBBbGwgZG9uZS4KICB5aWVsZCB7CiAgICByZXNwb25zZTogewogICAgICBhY3Rpb246ICdjb21wbGV0ZScsCiAgICB9CiAgfTsKfQoKc2NvcGUuZ29vZ2xlID0gc2NvcGUuZ29vZ2xlIHx8IHt9OwpzY29wZS5nb29nbGUuY29sYWIgPSBzY29wZS5nb29nbGUuY29sYWIgfHwge307CnNjb3BlLmdvb2dsZS5jb2xhYi5fZmlsZXMgPSB7CiAgX3VwbG9hZEZpbGVzLAogIF91cGxvYWRGaWxlc0NvbnRpbnVlLAp9Owp9KShzZWxmKTsK",
              "ok": true,
              "headers": [
                [
                  "content-type",
                  "application/javascript"
                ]
              ],
              "status": 200,
              "status_text": ""
            }
          },
          "base_uri": "https://localhost:8080/",
          "height": 72
        },
        "id": "axibujkdoOzY",
        "outputId": "dabf2048-c7dd-4a62-ba88-cadc68ca1aa5"
      },
      "source": [
        "#Load score_science.csv\n",
        "uploaded1 = files.upload()"
      ],
      "execution_count": 3,
      "outputs": [
        {
          "output_type": "display_data",
          "data": {
            "text/html": [
              "\n",
              "     <input type=\"file\" id=\"files-966c3f71-832f-44a6-a509-cdfd6844f56c\" name=\"files[]\" multiple disabled\n",
              "        style=\"border:none\" />\n",
              "     <output id=\"result-966c3f71-832f-44a6-a509-cdfd6844f56c\">\n",
              "      Upload widget is only available when the cell has been executed in the\n",
              "      current browser session. Please rerun this cell to enable.\n",
              "      </output>\n",
              "      <script src=\"/nbextensions/google.colab/files.js\"></script> "
            ],
            "text/plain": [
              "<IPython.core.display.HTML object>"
            ]
          },
          "metadata": {
            "tags": []
          }
        },
        {
          "output_type": "stream",
          "text": [
            "Saving score_science.csv to score_science (2).csv\n"
          ],
          "name": "stdout"
        }
      ]
    },
    {
      "cell_type": "code",
      "metadata": {
        "id": "Q26Oles-rtHH",
        "colab": {
          "resources": {
            "http://localhost:8080/nbextensions/google.colab/files.js": {
              "data": "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",
              "ok": true,
              "headers": [
                [
                  "content-type",
                  "application/javascript"
                ]
              ],
              "status": 200,
              "status_text": ""
            }
          },
          "base_uri": "https://localhost:8080/",
          "height": 72
        },
        "outputId": "4a6d67da-4628-4f11-a3e5-323df90f2d96"
      },
      "source": [
        "#Load universities.csv\n",
        "uploaded2 = files.upload()"
      ],
      "execution_count": 4,
      "outputs": [
        {
          "output_type": "display_data",
          "data": {
            "text/html": [
              "\n",
              "     <input type=\"file\" id=\"files-51831df9-de3a-4aed-a094-c60d1561ea44\" name=\"files[]\" multiple disabled\n",
              "        style=\"border:none\" />\n",
              "     <output id=\"result-51831df9-de3a-4aed-a094-c60d1561ea44\">\n",
              "      Upload widget is only available when the cell has been executed in the\n",
              "      current browser session. Please rerun this cell to enable.\n",
              "      </output>\n",
              "      <script src=\"/nbextensions/google.colab/files.js\"></script> "
            ],
            "text/plain": [
              "<IPython.core.display.HTML object>"
            ]
          },
          "metadata": {
            "tags": []
          }
        },
        {
          "output_type": "stream",
          "text": [
            "Saving universities.csv to universities (1).csv\n"
          ],
          "name": "stdout"
        }
      ]
    },
    {
      "cell_type": "code",
      "metadata": {
        "id": "yBPnmrsy6wk9",
        "colab": {
          "base_uri": "https://localhost:8080/",
          "height": 241
        },
        "outputId": "e3067818-6623-44f2-8b58-a3013bd3b6f4"
      },
      "source": [
        "# Take a look at our first data\n",
        "df_score_science = pd.read_csv(io.BytesIO(uploaded1['score_science.csv']))\n",
        "df_score_science.head()"
      ],
      "execution_count": 5,
      "outputs": [
        {
          "output_type": "execute_result",
          "data": {
            "text/html": [
              "<div>\n",
              "<style scoped>\n",
              "    .dataframe tbody tr th:only-of-type {\n",
              "        vertical-align: middle;\n",
              "    }\n",
              "\n",
              "    .dataframe tbody tr th {\n",
              "        vertical-align: top;\n",
              "    }\n",
              "\n",
              "    .dataframe thead th {\n",
              "        text-align: right;\n",
              "    }\n",
              "</style>\n",
              "<table border=\"1\" class=\"dataframe\">\n",
              "  <thead>\n",
              "    <tr style=\"text-align: right;\">\n",
              "      <th></th>\n",
              "      <th>Unnamed: 0</th>\n",
              "      <th>id_first_major</th>\n",
              "      <th>id_first_university</th>\n",
              "      <th>id_second_major</th>\n",
              "      <th>id_second_university</th>\n",
              "      <th>id_user</th>\n",
              "      <th>score_bio</th>\n",
              "      <th>score_fis</th>\n",
              "      <th>score_kim</th>\n",
              "      <th>score_kmb</th>\n",
              "      <th>score_kpu</th>\n",
              "      <th>score_kua</th>\n",
              "      <th>score_mat</th>\n",
              "      <th>score_ppu</th>\n",
              "    </tr>\n",
              "  </thead>\n",
              "  <tbody>\n",
              "    <tr>\n",
              "      <th>0</th>\n",
              "      <td>0</td>\n",
              "      <td>3321065</td>\n",
              "      <td>332</td>\n",
              "      <td>3331187</td>\n",
              "      <td>333</td>\n",
              "      <td>4</td>\n",
              "      <td>400</td>\n",
              "      <td>400</td>\n",
              "      <td>400</td>\n",
              "      <td>400</td>\n",
              "      <td>400</td>\n",
              "      <td>400</td>\n",
              "      <td>400</td>\n",
              "      <td>400</td>\n",
              "    </tr>\n",
              "    <tr>\n",
              "      <th>1</th>\n",
              "      <td>1</td>\n",
              "      <td>3211015</td>\n",
              "      <td>321</td>\n",
              "      <td>3611066</td>\n",
              "      <td>361</td>\n",
              "      <td>14</td>\n",
              "      <td>816</td>\n",
              "      <td>666</td>\n",
              "      <td>651</td>\n",
              "      <td>678</td>\n",
              "      <td>685</td>\n",
              "      <td>706</td>\n",
              "      <td>695</td>\n",
              "      <td>562</td>\n",
              "    </tr>\n",
              "    <tr>\n",
              "      <th>2</th>\n",
              "      <td>2</td>\n",
              "      <td>3721093</td>\n",
              "      <td>372</td>\n",
              "      <td>3551302</td>\n",
              "      <td>355</td>\n",
              "      <td>19</td>\n",
              "      <td>562</td>\n",
              "      <td>839</td>\n",
              "      <td>624</td>\n",
              "      <td>700</td>\n",
              "      <td>781</td>\n",
              "      <td>464</td>\n",
              "      <td>551</td>\n",
              "      <td>668</td>\n",
              "    </tr>\n",
              "    <tr>\n",
              "      <th>3</th>\n",
              "      <td>3</td>\n",
              "      <td>3321096</td>\n",
              "      <td>332</td>\n",
              "      <td>3551194</td>\n",
              "      <td>355</td>\n",
              "      <td>23</td>\n",
              "      <td>700</td>\n",
              "      <td>669</td>\n",
              "      <td>692</td>\n",
              "      <td>679</td>\n",
              "      <td>692</td>\n",
              "      <td>813</td>\n",
              "      <td>507</td>\n",
              "      <td>573</td>\n",
              "    </tr>\n",
              "    <tr>\n",
              "      <th>4</th>\n",
              "      <td>4</td>\n",
              "      <td>5211104</td>\n",
              "      <td>521</td>\n",
              "      <td>5211085</td>\n",
              "      <td>521</td>\n",
              "      <td>28</td>\n",
              "      <td>461</td>\n",
              "      <td>619</td>\n",
              "      <td>441</td>\n",
              "      <td>593</td>\n",
              "      <td>563</td>\n",
              "      <td>500</td>\n",
              "      <td>666</td>\n",
              "      <td>370</td>\n",
              "    </tr>\n",
              "  </tbody>\n",
              "</table>\n",
              "</div>"
            ],
            "text/plain": [
              "   Unnamed: 0  id_first_major  ...  score_mat  score_ppu\n",
              "0           0         3321065  ...        400        400\n",
              "1           1         3211015  ...        695        562\n",
              "2           2         3721093  ...        551        668\n",
              "3           3         3321096  ...        507        573\n",
              "4           4         5211104  ...        666        370\n",
              "\n",
              "[5 rows x 14 columns]"
            ]
          },
          "metadata": {
            "tags": []
          },
          "execution_count": 5
        }
      ]
    },
    {
      "cell_type": "code",
      "metadata": {
        "colab": {
          "base_uri": "https://localhost:8080/",
          "height": 204
        },
        "id": "IabZ1lcxq00M",
        "outputId": "d02e2d22-660f-404f-c128-bfbfeeae7b22"
      },
      "source": [
        "# Take a look at our second data\n",
        "df_universities = pd.read_csv(io.BytesIO(uploaded2['universities.csv']))\n",
        "df_universities.head()"
      ],
      "execution_count": 6,
      "outputs": [
        {
          "output_type": "execute_result",
          "data": {
            "text/html": [
              "<div>\n",
              "<style scoped>\n",
              "    .dataframe tbody tr th:only-of-type {\n",
              "        vertical-align: middle;\n",
              "    }\n",
              "\n",
              "    .dataframe tbody tr th {\n",
              "        vertical-align: top;\n",
              "    }\n",
              "\n",
              "    .dataframe thead th {\n",
              "        text-align: right;\n",
              "    }\n",
              "</style>\n",
              "<table border=\"1\" class=\"dataframe\">\n",
              "  <thead>\n",
              "    <tr style=\"text-align: right;\">\n",
              "      <th></th>\n",
              "      <th>Unnamed: 0</th>\n",
              "      <th>id_university</th>\n",
              "      <th>university_name</th>\n",
              "    </tr>\n",
              "  </thead>\n",
              "  <tbody>\n",
              "    <tr>\n",
              "      <th>0</th>\n",
              "      <td>0</td>\n",
              "      <td>111</td>\n",
              "      <td>UNIVERSITAS SYIAH KUALA</td>\n",
              "    </tr>\n",
              "    <tr>\n",
              "      <th>1</th>\n",
              "      <td>1</td>\n",
              "      <td>112</td>\n",
              "      <td>UNIVERSITAS MALIKUSSALEH</td>\n",
              "    </tr>\n",
              "    <tr>\n",
              "      <th>2</th>\n",
              "      <td>2</td>\n",
              "      <td>113</td>\n",
              "      <td>UNIVERSITAS TEUKU UMAR</td>\n",
              "    </tr>\n",
              "    <tr>\n",
              "      <th>3</th>\n",
              "      <td>3</td>\n",
              "      <td>114</td>\n",
              "      <td>UNIVERSITAS SAMUDRA</td>\n",
              "    </tr>\n",
              "    <tr>\n",
              "      <th>4</th>\n",
              "      <td>4</td>\n",
              "      <td>115</td>\n",
              "      <td>ISBI ACEH</td>\n",
              "    </tr>\n",
              "  </tbody>\n",
              "</table>\n",
              "</div>"
            ],
            "text/plain": [
              "   Unnamed: 0  id_university           university_name\n",
              "0           0            111   UNIVERSITAS SYIAH KUALA\n",
              "1           1            112  UNIVERSITAS MALIKUSSALEH\n",
              "2           2            113    UNIVERSITAS TEUKU UMAR\n",
              "3           3            114       UNIVERSITAS SAMUDRA\n",
              "4           4            115                 ISBI ACEH"
            ]
          },
          "metadata": {
            "tags": []
          },
          "execution_count": 6
        }
      ]
    },
    {
      "cell_type": "code",
      "metadata": {
        "colab": {
          "base_uri": "https://localhost:8080/",
          "height": 204
        },
        "id": "D8KASuFtNyjw",
        "outputId": "c2a8c498-64c3-4ccd-f5da-68153b1d55a3"
      },
      "source": [
        "#Drop kolom2 tak berguna pada kasus ini\n",
        "df_score_science.drop(['Unnamed: 0', 'id_first_major', 'id_second_major', 'id_second_university'], axis = 1, inplace=True)\n",
        "df_universities.drop('Unnamed: 0', axis = 1, inplace=True)\n",
        "\n",
        "df_score_science.head()"
      ],
      "execution_count": 7,
      "outputs": [
        {
          "output_type": "execute_result",
          "data": {
            "text/html": [
              "<div>\n",
              "<style scoped>\n",
              "    .dataframe tbody tr th:only-of-type {\n",
              "        vertical-align: middle;\n",
              "    }\n",
              "\n",
              "    .dataframe tbody tr th {\n",
              "        vertical-align: top;\n",
              "    }\n",
              "\n",
              "    .dataframe thead th {\n",
              "        text-align: right;\n",
              "    }\n",
              "</style>\n",
              "<table border=\"1\" class=\"dataframe\">\n",
              "  <thead>\n",
              "    <tr style=\"text-align: right;\">\n",
              "      <th></th>\n",
              "      <th>id_first_university</th>\n",
              "      <th>id_user</th>\n",
              "      <th>score_bio</th>\n",
              "      <th>score_fis</th>\n",
              "      <th>score_kim</th>\n",
              "      <th>score_kmb</th>\n",
              "      <th>score_kpu</th>\n",
              "      <th>score_kua</th>\n",
              "      <th>score_mat</th>\n",
              "      <th>score_ppu</th>\n",
              "    </tr>\n",
              "  </thead>\n",
              "  <tbody>\n",
              "    <tr>\n",
              "      <th>0</th>\n",
              "      <td>332</td>\n",
              "      <td>4</td>\n",
              "      <td>400</td>\n",
              "      <td>400</td>\n",
              "      <td>400</td>\n",
              "      <td>400</td>\n",
              "      <td>400</td>\n",
              "      <td>400</td>\n",
              "      <td>400</td>\n",
              "      <td>400</td>\n",
              "    </tr>\n",
              "    <tr>\n",
              "      <th>1</th>\n",
              "      <td>321</td>\n",
              "      <td>14</td>\n",
              "      <td>816</td>\n",
              "      <td>666</td>\n",
              "      <td>651</td>\n",
              "      <td>678</td>\n",
              "      <td>685</td>\n",
              "      <td>706</td>\n",
              "      <td>695</td>\n",
              "      <td>562</td>\n",
              "    </tr>\n",
              "    <tr>\n",
              "      <th>2</th>\n",
              "      <td>372</td>\n",
              "      <td>19</td>\n",
              "      <td>562</td>\n",
              "      <td>839</td>\n",
              "      <td>624</td>\n",
              "      <td>700</td>\n",
              "      <td>781</td>\n",
              "      <td>464</td>\n",
              "      <td>551</td>\n",
              "      <td>668</td>\n",
              "    </tr>\n",
              "    <tr>\n",
              "      <th>3</th>\n",
              "      <td>332</td>\n",
              "      <td>23</td>\n",
              "      <td>700</td>\n",
              "      <td>669</td>\n",
              "      <td>692</td>\n",
              "      <td>679</td>\n",
              "      <td>692</td>\n",
              "      <td>813</td>\n",
              "      <td>507</td>\n",
              "      <td>573</td>\n",
              "    </tr>\n",
              "    <tr>\n",
              "      <th>4</th>\n",
              "      <td>521</td>\n",
              "      <td>28</td>\n",
              "      <td>461</td>\n",
              "      <td>619</td>\n",
              "      <td>441</td>\n",
              "      <td>593</td>\n",
              "      <td>563</td>\n",
              "      <td>500</td>\n",
              "      <td>666</td>\n",
              "      <td>370</td>\n",
              "    </tr>\n",
              "  </tbody>\n",
              "</table>\n",
              "</div>"
            ],
            "text/plain": [
              "   id_first_university  id_user  score_bio  ...  score_kua  score_mat  score_ppu\n",
              "0                  332        4        400  ...        400        400        400\n",
              "1                  321       14        816  ...        706        695        562\n",
              "2                  372       19        562  ...        464        551        668\n",
              "3                  332       23        700  ...        813        507        573\n",
              "4                  521       28        461  ...        500        666        370\n",
              "\n",
              "[5 rows x 10 columns]"
            ]
          },
          "metadata": {
            "tags": []
          },
          "execution_count": 7
        }
      ]
    },
    {
      "cell_type": "code",
      "metadata": {
        "colab": {
          "base_uri": "https://localhost:8080/",
          "height": 255
        },
        "id": "z9nz1Gp-NOQl",
        "outputId": "c00f0744-23bb-4365-8189-86f5f77157a6"
      },
      "source": [
        "#Copy to the new dfs\n",
        "\n",
        "df1 = df_score_science.copy()\n",
        "df2 = df_universities.copy()\n",
        "\n",
        "df1 = df1.merge(df2, how='left', left_on='id_first_university', right_on='id_university')\n",
        "df1.head()"
      ],
      "execution_count": 8,
      "outputs": [
        {
          "output_type": "execute_result",
          "data": {
            "text/html": [
              "<div>\n",
              "<style scoped>\n",
              "    .dataframe tbody tr th:only-of-type {\n",
              "        vertical-align: middle;\n",
              "    }\n",
              "\n",
              "    .dataframe tbody tr th {\n",
              "        vertical-align: top;\n",
              "    }\n",
              "\n",
              "    .dataframe thead th {\n",
              "        text-align: right;\n",
              "    }\n",
              "</style>\n",
              "<table border=\"1\" class=\"dataframe\">\n",
              "  <thead>\n",
              "    <tr style=\"text-align: right;\">\n",
              "      <th></th>\n",
              "      <th>id_first_university</th>\n",
              "      <th>id_user</th>\n",
              "      <th>score_bio</th>\n",
              "      <th>score_fis</th>\n",
              "      <th>score_kim</th>\n",
              "      <th>score_kmb</th>\n",
              "      <th>score_kpu</th>\n",
              "      <th>score_kua</th>\n",
              "      <th>score_mat</th>\n",
              "      <th>score_ppu</th>\n",
              "      <th>id_university</th>\n",
              "      <th>university_name</th>\n",
              "    </tr>\n",
              "  </thead>\n",
              "  <tbody>\n",
              "    <tr>\n",
              "      <th>0</th>\n",
              "      <td>332</td>\n",
              "      <td>4</td>\n",
              "      <td>400</td>\n",
              "      <td>400</td>\n",
              "      <td>400</td>\n",
              "      <td>400</td>\n",
              "      <td>400</td>\n",
              "      <td>400</td>\n",
              "      <td>400</td>\n",
              "      <td>400</td>\n",
              "      <td>332.0</td>\n",
              "      <td>INSTITUT TEKNOLOGI BANDUNG</td>\n",
              "    </tr>\n",
              "    <tr>\n",
              "      <th>1</th>\n",
              "      <td>321</td>\n",
              "      <td>14</td>\n",
              "      <td>816</td>\n",
              "      <td>666</td>\n",
              "      <td>651</td>\n",
              "      <td>678</td>\n",
              "      <td>685</td>\n",
              "      <td>706</td>\n",
              "      <td>695</td>\n",
              "      <td>562</td>\n",
              "      <td>321.0</td>\n",
              "      <td>UNIVERSITAS INDONESIA</td>\n",
              "    </tr>\n",
              "    <tr>\n",
              "      <th>2</th>\n",
              "      <td>372</td>\n",
              "      <td>19</td>\n",
              "      <td>562</td>\n",
              "      <td>839</td>\n",
              "      <td>624</td>\n",
              "      <td>700</td>\n",
              "      <td>781</td>\n",
              "      <td>464</td>\n",
              "      <td>551</td>\n",
              "      <td>668</td>\n",
              "      <td>372.0</td>\n",
              "      <td>UNIVERSITAS BRAWIJAYA</td>\n",
              "    </tr>\n",
              "    <tr>\n",
              "      <th>3</th>\n",
              "      <td>332</td>\n",
              "      <td>23</td>\n",
              "      <td>700</td>\n",
              "      <td>669</td>\n",
              "      <td>692</td>\n",
              "      <td>679</td>\n",
              "      <td>692</td>\n",
              "      <td>813</td>\n",
              "      <td>507</td>\n",
              "      <td>573</td>\n",
              "      <td>332.0</td>\n",
              "      <td>INSTITUT TEKNOLOGI BANDUNG</td>\n",
              "    </tr>\n",
              "    <tr>\n",
              "      <th>4</th>\n",
              "      <td>521</td>\n",
              "      <td>28</td>\n",
              "      <td>461</td>\n",
              "      <td>619</td>\n",
              "      <td>441</td>\n",
              "      <td>593</td>\n",
              "      <td>563</td>\n",
              "      <td>500</td>\n",
              "      <td>666</td>\n",
              "      <td>370</td>\n",
              "      <td>521.0</td>\n",
              "      <td>UNIVERSITAS PALANGKARAYA</td>\n",
              "    </tr>\n",
              "  </tbody>\n",
              "</table>\n",
              "</div>"
            ],
            "text/plain": [
              "   id_first_university  id_user  ...  id_university             university_name\n",
              "0                  332        4  ...          332.0  INSTITUT TEKNOLOGI BANDUNG\n",
              "1                  321       14  ...          321.0       UNIVERSITAS INDONESIA\n",
              "2                  372       19  ...          372.0       UNIVERSITAS BRAWIJAYA\n",
              "3                  332       23  ...          332.0  INSTITUT TEKNOLOGI BANDUNG\n",
              "4                  521       28  ...          521.0    UNIVERSITAS PALANGKARAYA\n",
              "\n",
              "[5 rows x 12 columns]"
            ]
          },
          "metadata": {
            "tags": []
          },
          "execution_count": 8
        }
      ]
    },
    {
      "cell_type": "code",
      "metadata": {
        "colab": {
          "base_uri": "https://localhost:8080/",
          "height": 235
        },
        "id": "hMKRgcH0BJms",
        "outputId": "bac79711-7916-4a11-eef3-7cf17a32d6f5"
      },
      "source": [
        "# Beberapa universitas yang tidak ada lagi di df1\n",
        "df3 = df1.copy()\n",
        "df4 = df_universities.copy()\n",
        "\n",
        "df3.merge(df4, how='inner', on='university_name')\n",
        "df_universities[~df_universities.university_name.isin(df3.university_name)]"
      ],
      "execution_count": 9,
      "outputs": [
        {
          "output_type": "execute_result",
          "data": {
            "text/html": [
              "<div>\n",
              "<style scoped>\n",
              "    .dataframe tbody tr th:only-of-type {\n",
              "        vertical-align: middle;\n",
              "    }\n",
              "\n",
              "    .dataframe tbody tr th {\n",
              "        vertical-align: top;\n",
              "    }\n",
              "\n",
              "    .dataframe thead th {\n",
              "        text-align: right;\n",
              "    }\n",
              "</style>\n",
              "<table border=\"1\" class=\"dataframe\">\n",
              "  <thead>\n",
              "    <tr style=\"text-align: right;\">\n",
              "      <th></th>\n",
              "      <th>id_university</th>\n",
              "      <th>university_name</th>\n",
              "    </tr>\n",
              "  </thead>\n",
              "  <tbody>\n",
              "    <tr>\n",
              "      <th>4</th>\n",
              "      <td>115</td>\n",
              "      <td>ISBI ACEH</td>\n",
              "    </tr>\n",
              "    <tr>\n",
              "      <th>14</th>\n",
              "      <td>143</td>\n",
              "      <td>ISI PADANG PANJANG</td>\n",
              "    </tr>\n",
              "    <tr>\n",
              "      <th>31</th>\n",
              "      <td>335</td>\n",
              "      <td>ISBI BANDUNG</td>\n",
              "    </tr>\n",
              "    <tr>\n",
              "      <th>45</th>\n",
              "      <td>364</td>\n",
              "      <td>ISI YOGYAKARTA</td>\n",
              "    </tr>\n",
              "    <tr>\n",
              "      <th>65</th>\n",
              "      <td>613</td>\n",
              "      <td>ISI DENPASAR</td>\n",
              "    </tr>\n",
              "    <tr>\n",
              "      <th>83</th>\n",
              "      <td>913</td>\n",
              "      <td>ISBI TANAH PAPUA</td>\n",
              "    </tr>\n",
              "  </tbody>\n",
              "</table>\n",
              "</div>"
            ],
            "text/plain": [
              "    id_university     university_name\n",
              "4             115           ISBI ACEH\n",
              "14            143  ISI PADANG PANJANG\n",
              "31            335        ISBI BANDUNG\n",
              "45            364      ISI YOGYAKARTA\n",
              "65            613        ISI DENPASAR\n",
              "83            913    ISBI TANAH PAPUA"
            ]
          },
          "metadata": {
            "tags": []
          },
          "execution_count": 9
        }
      ]
    },
    {
      "cell_type": "code",
      "metadata": {
        "id": "citXGuApv9OA"
      },
      "source": [
        "#Hapus baris dengan univ 'ISI Surakarta'\n",
        "\n",
        "df1 = df1[df1['university_name'] != 'ISI SURAKARTA']"
      ],
      "execution_count": 10,
      "outputs": []
    },
    {
      "cell_type": "code",
      "metadata": {
        "colab": {
          "base_uri": "https://localhost:8080/"
        },
        "id": "5nrx21hyXAtq",
        "outputId": "692dd919-d986-4c62-bca7-53ef5c5e910d"
      },
      "source": [
        "#Check masih ada missing value?\n",
        "df1.isnull().sum()"
      ],
      "execution_count": 11,
      "outputs": [
        {
          "output_type": "execute_result",
          "data": {
            "text/plain": [
              "id_first_university    0\n",
              "id_user                0\n",
              "score_bio              0\n",
              "score_fis              0\n",
              "score_kim              0\n",
              "score_kmb              0\n",
              "score_kpu              0\n",
              "score_kua              0\n",
              "score_mat              0\n",
              "score_ppu              0\n",
              "id_university          1\n",
              "university_name        1\n",
              "dtype: int64"
            ]
          },
          "metadata": {
            "tags": []
          },
          "execution_count": 11
        }
      ]
    },
    {
      "cell_type": "code",
      "metadata": {
        "colab": {
          "base_uri": "https://localhost:8080/",
          "height": 80
        },
        "id": "kzWWABP2f6Sa",
        "outputId": "15b63acf-e271-4bd0-8126-63928e4b9957"
      },
      "source": [
        "df1[df1['id_university'].isnull() == True]"
      ],
      "execution_count": 12,
      "outputs": [
        {
          "output_type": "execute_result",
          "data": {
            "text/html": [
              "<div>\n",
              "<style scoped>\n",
              "    .dataframe tbody tr th:only-of-type {\n",
              "        vertical-align: middle;\n",
              "    }\n",
              "\n",
              "    .dataframe tbody tr th {\n",
              "        vertical-align: top;\n",
              "    }\n",
              "\n",
              "    .dataframe thead th {\n",
              "        text-align: right;\n",
              "    }\n",
              "</style>\n",
              "<table border=\"1\" class=\"dataframe\">\n",
              "  <thead>\n",
              "    <tr style=\"text-align: right;\">\n",
              "      <th></th>\n",
              "      <th>id_first_university</th>\n",
              "      <th>id_user</th>\n",
              "      <th>score_bio</th>\n",
              "      <th>score_fis</th>\n",
              "      <th>score_kim</th>\n",
              "      <th>score_kmb</th>\n",
              "      <th>score_kpu</th>\n",
              "      <th>score_kua</th>\n",
              "      <th>score_mat</th>\n",
              "      <th>score_ppu</th>\n",
              "      <th>id_university</th>\n",
              "      <th>university_name</th>\n",
              "    </tr>\n",
              "  </thead>\n",
              "  <tbody>\n",
              "    <tr>\n",
              "      <th>22169</th>\n",
              "      <td>46</td>\n",
              "      <td>99120</td>\n",
              "      <td>552</td>\n",
              "      <td>496</td>\n",
              "      <td>647</td>\n",
              "      <td>642</td>\n",
              "      <td>661</td>\n",
              "      <td>696</td>\n",
              "      <td>633</td>\n",
              "      <td>512</td>\n",
              "      <td>NaN</td>\n",
              "      <td>NaN</td>\n",
              "    </tr>\n",
              "  </tbody>\n",
              "</table>\n",
              "</div>"
            ],
            "text/plain": [
              "       id_first_university  id_user  ...  id_university  university_name\n",
              "22169                   46    99120  ...            NaN              NaN\n",
              "\n",
              "[1 rows x 12 columns]"
            ]
          },
          "metadata": {
            "tags": []
          },
          "execution_count": 12
        }
      ]
    },
    {
      "cell_type": "code",
      "metadata": {
        "colab": {
          "base_uri": "https://localhost:8080/"
        },
        "id": "4J8RZqfwR26B",
        "outputId": "1ad01e19-af76-4762-a490-d476e483b224"
      },
      "source": [
        "#Drop missing value\n",
        "df1.drop(labels=22169, axis=0, inplace=True)\n",
        "\n",
        "#Check masih ada missing value?\n",
        "df1.isnull().sum()"
      ],
      "execution_count": 13,
      "outputs": [
        {
          "output_type": "execute_result",
          "data": {
            "text/plain": [
              "id_first_university    0\n",
              "id_user                0\n",
              "score_bio              0\n",
              "score_fis              0\n",
              "score_kim              0\n",
              "score_kmb              0\n",
              "score_kpu              0\n",
              "score_kua              0\n",
              "score_mat              0\n",
              "score_ppu              0\n",
              "id_university          0\n",
              "university_name        0\n",
              "dtype: int64"
            ]
          },
          "metadata": {
            "tags": []
          },
          "execution_count": 13
        }
      ]
    },
    {
      "cell_type": "code",
      "metadata": {
        "id": "PkMEoPe0FYPn"
      },
      "source": [
        "#Drop kolom2 kurang berguna pada kasus ini.\n",
        "df1.drop(['id_first_university', 'id_user', 'id_university'], axis=1, inplace=True)"
      ],
      "execution_count": 14,
      "outputs": []
    },
    {
      "cell_type": "code",
      "metadata": {
        "colab": {
          "base_uri": "https://localhost:8080/",
          "height": 603
        },
        "id": "OTqgAlW4jw3c",
        "outputId": "371e1b2f-53a1-4b0b-81e8-c3dd65167c42"
      },
      "source": [
        "#Group by university_name and gunakan fungsi mean aggregation.\n",
        "df_akhir = df1.groupby('university_name').mean()\n",
        "df_akhir.columns = ['rata2_score_bio', 'rata2_score_fis', 'rata2_score_kim', 'rata2_score_kmb', 'rata2_score_kpu', 'rata2_score_kua', 'rata2_score_mat', 'rata2_score_ppu']\n",
        "df_akhir.index.names = ['University Name (First Choice)']\n",
        "df_akhir"
      ],
      "execution_count": 15,
      "outputs": [
        {
          "output_type": "execute_result",
          "data": {
            "text/html": [
              "<div>\n",
              "<style scoped>\n",
              "    .dataframe tbody tr th:only-of-type {\n",
              "        vertical-align: middle;\n",
              "    }\n",
              "\n",
              "    .dataframe tbody tr th {\n",
              "        vertical-align: top;\n",
              "    }\n",
              "\n",
              "    .dataframe thead th {\n",
              "        text-align: right;\n",
              "    }\n",
              "</style>\n",
              "<table border=\"1\" class=\"dataframe\">\n",
              "  <thead>\n",
              "    <tr style=\"text-align: right;\">\n",
              "      <th></th>\n",
              "      <th>rata2_score_bio</th>\n",
              "      <th>rata2_score_fis</th>\n",
              "      <th>rata2_score_kim</th>\n",
              "      <th>rata2_score_kmb</th>\n",
              "      <th>rata2_score_kpu</th>\n",
              "      <th>rata2_score_kua</th>\n",
              "      <th>rata2_score_mat</th>\n",
              "      <th>rata2_score_ppu</th>\n",
              "    </tr>\n",
              "    <tr>\n",
              "      <th>University Name (First Choice)</th>\n",
              "      <th></th>\n",
              "      <th></th>\n",
              "      <th></th>\n",
              "      <th></th>\n",
              "      <th></th>\n",
              "      <th></th>\n",
              "      <th></th>\n",
              "      <th></th>\n",
              "    </tr>\n",
              "  </thead>\n",
              "  <tbody>\n",
              "    <tr>\n",
              "      <th>INSTITUT PERTANIAN BOGOR</th>\n",
              "      <td>542.374141</td>\n",
              "      <td>541.200051</td>\n",
              "      <td>546.775006</td>\n",
              "      <td>577.238738</td>\n",
              "      <td>581.141766</td>\n",
              "      <td>575.912191</td>\n",
              "      <td>529.929753</td>\n",
              "      <td>552.030288</td>\n",
              "    </tr>\n",
              "    <tr>\n",
              "      <th>INSTITUT TEKNOLOGI BANDUNG</th>\n",
              "      <td>588.152127</td>\n",
              "      <td>613.455158</td>\n",
              "      <td>633.718090</td>\n",
              "      <td>622.134374</td>\n",
              "      <td>633.620141</td>\n",
              "      <td>661.088154</td>\n",
              "      <td>575.340373</td>\n",
              "      <td>580.377104</td>\n",
              "    </tr>\n",
              "    <tr>\n",
              "      <th>INSTITUT TEKNOLOGI KALIMANTAN</th>\n",
              "      <td>504.540541</td>\n",
              "      <td>509.886486</td>\n",
              "      <td>512.870270</td>\n",
              "      <td>542.162162</td>\n",
              "      <td>539.297297</td>\n",
              "      <td>518.491892</td>\n",
              "      <td>511.443243</td>\n",
              "      <td>527.583784</td>\n",
              "    </tr>\n",
              "    <tr>\n",
              "      <th>INSTITUT TEKNOLOGI SEPULUH NOPEMBER</th>\n",
              "      <td>555.484407</td>\n",
              "      <td>569.538759</td>\n",
              "      <td>577.669142</td>\n",
              "      <td>597.676270</td>\n",
              "      <td>609.359073</td>\n",
              "      <td>616.893377</td>\n",
              "      <td>546.658153</td>\n",
              "      <td>565.906148</td>\n",
              "    </tr>\n",
              "    <tr>\n",
              "      <th>INSTITUT TEKNOLOGI SUMATERA</th>\n",
              "      <td>503.028846</td>\n",
              "      <td>502.309829</td>\n",
              "      <td>492.626068</td>\n",
              "      <td>520.476496</td>\n",
              "      <td>523.936966</td>\n",
              "      <td>514.467949</td>\n",
              "      <td>511.711538</td>\n",
              "      <td>514.726496</td>\n",
              "    </tr>\n",
              "    <tr>\n",
              "      <th>...</th>\n",
              "      <td>...</td>\n",
              "      <td>...</td>\n",
              "      <td>...</td>\n",
              "      <td>...</td>\n",
              "      <td>...</td>\n",
              "      <td>...</td>\n",
              "      <td>...</td>\n",
              "      <td>...</td>\n",
              "    </tr>\n",
              "    <tr>\n",
              "      <th>UNIVERSITAS TRUNOJOYO MADURA</th>\n",
              "      <td>494.654354</td>\n",
              "      <td>503.094987</td>\n",
              "      <td>486.332454</td>\n",
              "      <td>509.166227</td>\n",
              "      <td>506.746702</td>\n",
              "      <td>500.224274</td>\n",
              "      <td>508.282322</td>\n",
              "      <td>505.730871</td>\n",
              "    </tr>\n",
              "    <tr>\n",
              "      <th>UNIVERSITAS UDAYANA</th>\n",
              "      <td>537.807089</td>\n",
              "      <td>530.773388</td>\n",
              "      <td>536.433469</td>\n",
              "      <td>570.391052</td>\n",
              "      <td>573.579314</td>\n",
              "      <td>562.689134</td>\n",
              "      <td>523.998257</td>\n",
              "      <td>543.942475</td>\n",
              "    </tr>\n",
              "    <tr>\n",
              "      <th>UPN \"VETERAN\" JAKARTA</th>\n",
              "      <td>529.994374</td>\n",
              "      <td>533.400141</td>\n",
              "      <td>530.263010</td>\n",
              "      <td>558.694796</td>\n",
              "      <td>557.826301</td>\n",
              "      <td>553.515471</td>\n",
              "      <td>523.381857</td>\n",
              "      <td>542.067511</td>\n",
              "    </tr>\n",
              "    <tr>\n",
              "      <th>UPN \"VETERAN\" JAWA TIMUR</th>\n",
              "      <td>517.736800</td>\n",
              "      <td>524.765600</td>\n",
              "      <td>523.007200</td>\n",
              "      <td>550.641600</td>\n",
              "      <td>554.200800</td>\n",
              "      <td>547.860000</td>\n",
              "      <td>519.535200</td>\n",
              "      <td>532.184000</td>\n",
              "    </tr>\n",
              "    <tr>\n",
              "      <th>UPN \"VETERAN\" YOGYAKARTA</th>\n",
              "      <td>529.827566</td>\n",
              "      <td>541.031026</td>\n",
              "      <td>542.134845</td>\n",
              "      <td>565.797136</td>\n",
              "      <td>573.208234</td>\n",
              "      <td>568.306683</td>\n",
              "      <td>527.585322</td>\n",
              "      <td>545.347255</td>\n",
              "    </tr>\n",
              "  </tbody>\n",
              "</table>\n",
              "<p>78 rows × 8 columns</p>\n",
              "</div>"
            ],
            "text/plain": [
              "                                     rata2_score_bio  ...  rata2_score_ppu\n",
              "University Name (First Choice)                        ...                 \n",
              "INSTITUT PERTANIAN BOGOR                  542.374141  ...       552.030288\n",
              "INSTITUT TEKNOLOGI BANDUNG                588.152127  ...       580.377104\n",
              "INSTITUT TEKNOLOGI KALIMANTAN             504.540541  ...       527.583784\n",
              "INSTITUT TEKNOLOGI SEPULUH NOPEMBER       555.484407  ...       565.906148\n",
              "INSTITUT TEKNOLOGI SUMATERA               503.028846  ...       514.726496\n",
              "...                                              ...  ...              ...\n",
              "UNIVERSITAS TRUNOJOYO MADURA              494.654354  ...       505.730871\n",
              "UNIVERSITAS UDAYANA                       537.807089  ...       543.942475\n",
              "UPN \"VETERAN\" JAKARTA                     529.994374  ...       542.067511\n",
              "UPN \"VETERAN\" JAWA TIMUR                  517.736800  ...       532.184000\n",
              "UPN \"VETERAN\" YOGYAKARTA                  529.827566  ...       545.347255\n",
              "\n",
              "[78 rows x 8 columns]"
            ]
          },
          "metadata": {
            "tags": []
          },
          "execution_count": 15
        }
      ]
    },
    {
      "cell_type": "code",
      "metadata": {
        "colab": {
          "base_uri": "https://localhost:8080/",
          "height": 725
        },
        "id": "D76AwydE1p6B",
        "outputId": "39595af0-b2ac-4e37-d710-1fd4188092e4"
      },
      "source": [
        "#Plot 1 : Top 10 PTN pilihan pertama berdasarkan skor UTBK 2019 Peserta\n",
        "import matplotlib.pyplot as plt\n",
        "import seaborn as sns\n",
        "\n",
        "df5 = df_akhir.copy()\n",
        "df5.reset_index(inplace = True)\n",
        "\n",
        "df5['rata2_total_skor'] = (df5['rata2_score_bio'] + df5['rata2_score_fis'] + df5['rata2_score_kim'] + df5['rata2_score_kmb'] + df5['rata2_score_kpu'] + df5['rata2_score_kua'] + df5['rata2_score_mat'] + df5['rata2_score_ppu']) / 8\n",
        "order_plot = df5.groupby('University Name (First Choice)')['rata2_total_skor'].mean().sort_values(ascending=False).index.values\n",
        "\n",
        "\n",
        "g = sns.catplot(data=df5, x='rata2_total_skor',  y='University Name (First Choice)',kind='bar',ci=None, legend_out=False, order=order_plot[:11], orient = 'h')\n",
        "g.fig.set_figheight(10)\n",
        "g.fig.set_figwidth(50)\n",
        "g.ax.set_title('\\nTop 10 PTN Pilihan Pertama berdasarkan Rata-rata Skor Peserta UTBK 2019', fontsize = 18)\n",
        "sns.set(font_scale = 1.2)\n",
        "\n",
        "plt.show()"
      ],
      "execution_count": 31,
      "outputs": [
        {
          "output_type": "display_data",
          "data": {
            "image/png": "[encoded data removed]",
            "text/plain": [
              "<Figure size 3600x720 with 1 Axes>"
            ]
          },
          "metadata": {
            "tags": []
          }
        }
      ]
    },
    {
      "cell_type": "code",
      "metadata": {
        "id": "UiA1n0xyszBb",
        "colab": {
          "base_uri": "https://localhost:8080/"
        },
        "outputId": "4b6e15f0-ef9f-416d-ba88-09a66cdc3953"
      },
      "source": [
        "# Silhouette Score\n",
        "from sklearn.cluster import KMeans\n",
        "from sklearn.metrics import silhouette_score\n",
        "\n",
        "cluster1 = df_akhir[['rata2_score_bio', 'rata2_score_fis', 'rata2_score_kim', 'rata2_score_kmb', 'rata2_score_kpu', 'rata2_score_kua', 'rata2_score_mat', 'rata2_score_ppu']].iloc[:,:].values\n",
        "inertia1 = []\n",
        "for n in range(2 , 11):\n",
        "    algorithm = (KMeans(n_clusters = n ,init='k-means++', n_init = 5 ,max_iter=100, \n",
        "                        tol=0.0001,  random_state= 111))\n",
        "    algorithm.fit(cluster1)\n",
        "    inertia1.append(algorithm.inertia_)\n",
        "    kmpp_predict = algorithm.predict(cluster1)\n",
        "    score = silhouette_score(cluster1, kmpp_predict) # Silhouette coefficient\n",
        "    print(\"For n_clusters = {}, silhouette score is {}\".format(n, score))"
      ],
      "execution_count": 17,
      "outputs": [
        {
          "output_type": "stream",
          "text": [
            "For n_clusters = 2, silhouette score is 0.3923902091876524\n",
            "For n_clusters = 3, silhouette score is 0.42093699618213776\n",
            "For n_clusters = 4, silhouette score is 0.36278397958583153\n",
            "For n_clusters = 5, silhouette score is 0.3757859135997303\n",
            "For n_clusters = 6, silhouette score is 0.3208483218333807\n",
            "For n_clusters = 7, silhouette score is 0.32029381748399416\n",
            "For n_clusters = 8, silhouette score is 0.33851047364471765\n",
            "For n_clusters = 9, silhouette score is 0.3395291325641966\n",
            "For n_clusters = 10, silhouette score is 0.34242938048729044\n"
          ],
          "name": "stdout"
        }
      ]
    },
    {
      "cell_type": "code",
      "metadata": {
        "id": "nKNpRGvJVAQe",
        "colab": {
          "base_uri": "https://localhost:8080/",
          "height": 398
        },
        "outputId": "d751b88a-2ae6-4779-c9ca-5db9e216aa8e"
      },
      "source": [
        "#Plot Elbow Method\n",
        "import matplotlib.pyplot as plt \n",
        "import numpy as np\n",
        "\n",
        "plt.figure(1 , figsize = (15 ,6))\n",
        "plt.plot(np.arange(2 , 11) , inertia1 , 'o')\n",
        "plt.plot(np.arange(2 , 11) , inertia1 , '-' , alpha = 0.5)\n",
        "plt.xlabel('Number of Clusters') , plt.ylabel('Inertia')\n",
        "plt.show()"
      ],
      "execution_count": 18,
      "outputs": [
        {
          "output_type": "display_data",
          "data": {
            "image/png": "[encoded data removed]",
            "text/plain": [
              "<Figure size 1080x432 with 1 Axes>"
            ]
          },
          "metadata": {
            "tags": []
          }
        }
      ]
    },
    {
      "cell_type": "code",
      "metadata": {
        "id": "jD0CZ-5MR6F3"
      },
      "source": [
        "# Model K-Means++\n",
        "from sklearn.cluster import KMeans\n",
        "algorithm1 = (KMeans(n_clusters = 3 ,init='k-means++', n_init = 4 ,max_iter=100, \n",
        "                        tol=0.0001,  random_state= 42))\n",
        "algorithm1.fit(df_akhir[['rata2_score_bio', 'rata2_score_fis', 'rata2_score_kim', 'rata2_score_kmb', 'rata2_score_kpu', 'rata2_score_kua', 'rata2_score_mat', 'rata2_score_ppu']])\n",
        "kmpp_predict = algorithm1.predict(df_akhir[['rata2_score_bio', 'rata2_score_fis', 'rata2_score_kim', 'rata2_score_kmb', 'rata2_score_kpu', 'rata2_score_kua', 'rata2_score_mat', 'rata2_score_ppu']])\n"
      ],
      "execution_count": 19,
      "outputs": []
    },
    {
      "cell_type": "code",
      "metadata": {
        "id": "9Md1zpNwMvej"
      },
      "source": [
        "df_akhir['cluster']=kmpp_predict"
      ],
      "execution_count": 20,
      "outputs": []
    },
    {
      "cell_type": "code",
      "metadata": {
        "id": "8EK_BDeJNAIa",
        "colab": {
          "base_uri": "https://localhost:8080/",
          "height": 756
        },
        "outputId": "4faa731f-94a3-4492-8247-e62aef178fb8"
      },
      "source": [
        "# Lihat hasil klasterisasi!\n",
        "df_akhir"
      ],
      "execution_count": 21,
      "outputs": [
        {
          "output_type": "execute_result",
          "data": {
            "text/html": [
              "<div>\n",
              "<style scoped>\n",
              "    .dataframe tbody tr th:only-of-type {\n",
              "        vertical-align: middle;\n",
              "    }\n",
              "\n",
              "    .dataframe tbody tr th {\n",
              "        vertical-align: top;\n",
              "    }\n",
              "\n",
              "    .dataframe thead th {\n",
              "        text-align: right;\n",
              "    }\n",
              "</style>\n",
              "<table border=\"1\" class=\"dataframe\">\n",
              "  <thead>\n",
              "    <tr style=\"text-align: right;\">\n",
              "      <th></th>\n",
              "      <th>rata2_score_bio</th>\n",
              "      <th>rata2_score_fis</th>\n",
              "      <th>rata2_score_kim</th>\n",
              "      <th>rata2_score_kmb</th>\n",
              "      <th>rata2_score_kpu</th>\n",
              "      <th>rata2_score_kua</th>\n",
              "      <th>rata2_score_mat</th>\n",
              "      <th>rata2_score_ppu</th>\n",
              "      <th>cluster</th>\n",
              "    </tr>\n",
              "    <tr>\n",
              "      <th>University Name (First Choice)</th>\n",
              "      <th></th>\n",
              "      <th></th>\n",
              "      <th></th>\n",
              "      <th></th>\n",
              "      <th></th>\n",
              "      <th></th>\n",
              "      <th></th>\n",
              "      <th></th>\n",
              "      <th></th>\n",
              "    </tr>\n",
              "  </thead>\n",
              "  <tbody>\n",
              "    <tr>\n",
              "      <th>INSTITUT PERTANIAN BOGOR</th>\n",
              "      <td>542.374141</td>\n",
              "      <td>541.200051</td>\n",
              "      <td>546.775006</td>\n",
              "      <td>577.238738</td>\n",
              "      <td>581.141766</td>\n",
              "      <td>575.912191</td>\n",
              "      <td>529.929753</td>\n",
              "      <td>552.030288</td>\n",
              "      <td>2</td>\n",
              "    </tr>\n",
              "    <tr>\n",
              "      <th>INSTITUT TEKNOLOGI BANDUNG</th>\n",
              "      <td>588.152127</td>\n",
              "      <td>613.455158</td>\n",
              "      <td>633.718090</td>\n",
              "      <td>622.134374</td>\n",
              "      <td>633.620141</td>\n",
              "      <td>661.088154</td>\n",
              "      <td>575.340373</td>\n",
              "      <td>580.377104</td>\n",
              "      <td>2</td>\n",
              "    </tr>\n",
              "    <tr>\n",
              "      <th>INSTITUT TEKNOLOGI KALIMANTAN</th>\n",
              "      <td>504.540541</td>\n",
              "      <td>509.886486</td>\n",
              "      <td>512.870270</td>\n",
              "      <td>542.162162</td>\n",
              "      <td>539.297297</td>\n",
              "      <td>518.491892</td>\n",
              "      <td>511.443243</td>\n",
              "      <td>527.583784</td>\n",
              "      <td>1</td>\n",
              "    </tr>\n",
              "    <tr>\n",
              "      <th>INSTITUT TEKNOLOGI SEPULUH NOPEMBER</th>\n",
              "      <td>555.484407</td>\n",
              "      <td>569.538759</td>\n",
              "      <td>577.669142</td>\n",
              "      <td>597.676270</td>\n",
              "      <td>609.359073</td>\n",
              "      <td>616.893377</td>\n",
              "      <td>546.658153</td>\n",
              "      <td>565.906148</td>\n",
              "      <td>2</td>\n",
              "    </tr>\n",
              "    <tr>\n",
              "      <th>INSTITUT TEKNOLOGI SUMATERA</th>\n",
              "      <td>503.028846</td>\n",
              "      <td>502.309829</td>\n",
              "      <td>492.626068</td>\n",
              "      <td>520.476496</td>\n",
              "      <td>523.936966</td>\n",
              "      <td>514.467949</td>\n",
              "      <td>511.711538</td>\n",
              "      <td>514.726496</td>\n",
              "      <td>0</td>\n",
              "    </tr>\n",
              "    <tr>\n",
              "      <th>...</th>\n",
              "      <td>...</td>\n",
              "      <td>...</td>\n",
              "      <td>...</td>\n",
              "      <td>...</td>\n",
              "      <td>...</td>\n",
              "      <td>...</td>\n",
              "      <td>...</td>\n",
              "      <td>...</td>\n",
              "      <td>...</td>\n",
              "    </tr>\n",
              "    <tr>\n",
              "      <th>UNIVERSITAS TRUNOJOYO MADURA</th>\n",
              "      <td>494.654354</td>\n",
              "      <td>503.094987</td>\n",
              "      <td>486.332454</td>\n",
              "      <td>509.166227</td>\n",
              "      <td>506.746702</td>\n",
              "      <td>500.224274</td>\n",
              "      <td>508.282322</td>\n",
              "      <td>505.730871</td>\n",
              "      <td>0</td>\n",
              "    </tr>\n",
              "    <tr>\n",
              "      <th>UNIVERSITAS UDAYANA</th>\n",
              "      <td>537.807089</td>\n",
              "      <td>530.773388</td>\n",
              "      <td>536.433469</td>\n",
              "      <td>570.391052</td>\n",
              "      <td>573.579314</td>\n",
              "      <td>562.689134</td>\n",
              "      <td>523.998257</td>\n",
              "      <td>543.942475</td>\n",
              "      <td>2</td>\n",
              "    </tr>\n",
              "    <tr>\n",
              "      <th>UPN \"VETERAN\" JAKARTA</th>\n",
              "      <td>529.994374</td>\n",
              "      <td>533.400141</td>\n",
              "      <td>530.263010</td>\n",
              "      <td>558.694796</td>\n",
              "      <td>557.826301</td>\n",
              "      <td>553.515471</td>\n",
              "      <td>523.381857</td>\n",
              "      <td>542.067511</td>\n",
              "      <td>1</td>\n",
              "    </tr>\n",
              "    <tr>\n",
              "      <th>UPN \"VETERAN\" JAWA TIMUR</th>\n",
              "      <td>517.736800</td>\n",
              "      <td>524.765600</td>\n",
              "      <td>523.007200</td>\n",
              "      <td>550.641600</td>\n",
              "      <td>554.200800</td>\n",
              "      <td>547.860000</td>\n",
              "      <td>519.535200</td>\n",
              "      <td>532.184000</td>\n",
              "      <td>1</td>\n",
              "    </tr>\n",
              "    <tr>\n",
              "      <th>UPN \"VETERAN\" YOGYAKARTA</th>\n",
              "      <td>529.827566</td>\n",
              "      <td>541.031026</td>\n",
              "      <td>542.134845</td>\n",
              "      <td>565.797136</td>\n",
              "      <td>573.208234</td>\n",
              "      <td>568.306683</td>\n",
              "      <td>527.585322</td>\n",
              "      <td>545.347255</td>\n",
              "      <td>2</td>\n",
              "    </tr>\n",
              "  </tbody>\n",
              "</table>\n",
              "<p>78 rows × 9 columns</p>\n",
              "</div>"
            ],
            "text/plain": [
              "                                     rata2_score_bio  ...  cluster\n",
              "University Name (First Choice)                        ...         \n",
              "INSTITUT PERTANIAN BOGOR                  542.374141  ...        2\n",
              "INSTITUT TEKNOLOGI BANDUNG                588.152127  ...        2\n",
              "INSTITUT TEKNOLOGI KALIMANTAN             504.540541  ...        1\n",
              "INSTITUT TEKNOLOGI SEPULUH NOPEMBER       555.484407  ...        2\n",
              "INSTITUT TEKNOLOGI SUMATERA               503.028846  ...        0\n",
              "...                                              ...  ...      ...\n",
              "UNIVERSITAS TRUNOJOYO MADURA              494.654354  ...        0\n",
              "UNIVERSITAS UDAYANA                       537.807089  ...        2\n",
              "UPN \"VETERAN\" JAKARTA                     529.994374  ...        1\n",
              "UPN \"VETERAN\" JAWA TIMUR                  517.736800  ...        1\n",
              "UPN \"VETERAN\" YOGYAKARTA                  529.827566  ...        2\n",
              "\n",
              "[78 rows x 9 columns]"
            ]
          },
          "metadata": {
            "tags": []
          },
          "execution_count": 21
        }
      ]
    },
    {
      "cell_type": "code",
      "metadata": {
        "colab": {
          "base_uri": "https://localhost:8080/"
        },
        "id": "--ybUzrVsslg",
        "outputId": "ac80f58a-7c93-4dad-9a08-e827e525fb32"
      },
      "source": [
        "# Mana saja PTN yang termasuk cluster 0 ?\n",
        "\n",
        "df_akhir[df_akhir['cluster'] == 0].reset_index()['University Name (First Choice)']"
      ],
      "execution_count": 32,
      "outputs": [
        {
          "output_type": "execute_result",
          "data": {
            "text/plain": [
              "0                      INSTITUT TEKNOLOGI SUMATERA\n",
              "1                      UNIVERSITAS BANGKA BELITUNG\n",
              "2                       UNIVERSITAS BORNEO TARAKAN\n",
              "3                             UNIVERSITAS HALUOLEO\n",
              "4                UNIVERSITAS ISLAM NEGERI ALAUDDIN\n",
              "5               UNIVERSITAS ISLAM NEGERI AR-RANIRY\n",
              "6             UNIVERSITAS ISLAM NEGERI RADEN FATAH\n",
              "7     UNIVERSITAS ISLAM NEGERI SULTAN SYARIF KASIM\n",
              "8          UNIVERSITAS ISLAM NEGERI SUMATERA UTARA\n",
              "9                UNIVERSITAS MARITIM RAJA ALI HAJI\n",
              "10                    UNIVERSITAS NEGERI GORONTALO\n",
              "11                     UNIVERSITAS NEGERI MAKASSAR\n",
              "12                       UNIVERSITAS NEGERI MANADO\n",
              "13                        UNIVERSITAS NEGERI MEDAN\n",
              "14                       UNIVERSITAS NEGERI PADANG\n",
              "15                        UNIVERSITAS PALANGKARAYA\n",
              "16                               UNIVERSITAS PAPUA\n",
              "17      UNIVERSITAS SEMBILAN BELAS NOVEMBER KOLAKA\n",
              "18                      UNIVERSITAS SULAWESI BARAT\n",
              "19                               UNIVERSITAS TIMOR\n",
              "20                    UNIVERSITAS TRUNOJOYO MADURA\n",
              "Name: University Name (First Choice), dtype: object"
            ]
          },
          "metadata": {
            "tags": []
          },
          "execution_count": 32
        }
      ]
    },
    {
      "cell_type": "code",
      "metadata": {
        "colab": {
          "base_uri": "https://localhost:8080/",
          "height": 297
        },
        "id": "W1OCESRxtouA",
        "outputId": "c5c35b88-a9a1-43e8-f86d-bc8d039ea0ca"
      },
      "source": [
        "# Statistik deskriptif PTN cluster 0 \n",
        "\n",
        "df_akhir[df_akhir['cluster'] == 0].drop('cluster', axis = 1).describe()"
      ],
      "execution_count": 23,
      "outputs": [
        {
          "output_type": "execute_result",
          "data": {
            "text/html": [
              "<div>\n",
              "<style scoped>\n",
              "    .dataframe tbody tr th:only-of-type {\n",
              "        vertical-align: middle;\n",
              "    }\n",
              "\n",
              "    .dataframe tbody tr th {\n",
              "        vertical-align: top;\n",
              "    }\n",
              "\n",
              "    .dataframe thead th {\n",
              "        text-align: right;\n",
              "    }\n",
              "</style>\n",
              "<table border=\"1\" class=\"dataframe\">\n",
              "  <thead>\n",
              "    <tr style=\"text-align: right;\">\n",
              "      <th></th>\n",
              "      <th>rata2_score_bio</th>\n",
              "      <th>rata2_score_fis</th>\n",
              "      <th>rata2_score_kim</th>\n",
              "      <th>rata2_score_kmb</th>\n",
              "      <th>rata2_score_kpu</th>\n",
              "      <th>rata2_score_kua</th>\n",
              "      <th>rata2_score_mat</th>\n",
              "      <th>rata2_score_ppu</th>\n",
              "    </tr>\n",
              "  </thead>\n",
              "  <tbody>\n",
              "    <tr>\n",
              "      <th>count</th>\n",
              "      <td>21.000000</td>\n",
              "      <td>21.000000</td>\n",
              "      <td>21.000000</td>\n",
              "      <td>21.000000</td>\n",
              "      <td>21.000000</td>\n",
              "      <td>21.000000</td>\n",
              "      <td>21.000000</td>\n",
              "      <td>21.000000</td>\n",
              "    </tr>\n",
              "    <tr>\n",
              "      <th>mean</th>\n",
              "      <td>493.647895</td>\n",
              "      <td>492.382943</td>\n",
              "      <td>489.127405</td>\n",
              "      <td>499.421283</td>\n",
              "      <td>500.972891</td>\n",
              "      <td>497.418636</td>\n",
              "      <td>500.665395</td>\n",
              "      <td>507.942544</td>\n",
              "    </tr>\n",
              "    <tr>\n",
              "      <th>std</th>\n",
              "      <td>14.678896</td>\n",
              "      <td>21.949661</td>\n",
              "      <td>16.228099</td>\n",
              "      <td>16.992264</td>\n",
              "      <td>23.312018</td>\n",
              "      <td>20.581258</td>\n",
              "      <td>21.893818</td>\n",
              "      <td>23.925608</td>\n",
              "    </tr>\n",
              "    <tr>\n",
              "      <th>min</th>\n",
              "      <td>454.526316</td>\n",
              "      <td>423.000000</td>\n",
              "      <td>453.600000</td>\n",
              "      <td>464.000000</td>\n",
              "      <td>456.216667</td>\n",
              "      <td>438.375000</td>\n",
              "      <td>463.178571</td>\n",
              "      <td>476.000000</td>\n",
              "    </tr>\n",
              "    <tr>\n",
              "      <th>25%</th>\n",
              "      <td>489.327586</td>\n",
              "      <td>485.000000</td>\n",
              "      <td>481.568966</td>\n",
              "      <td>490.437500</td>\n",
              "      <td>484.470588</td>\n",
              "      <td>484.600000</td>\n",
              "      <td>489.105263</td>\n",
              "      <td>500.353365</td>\n",
              "    </tr>\n",
              "    <tr>\n",
              "      <th>50%</th>\n",
              "      <td>495.469388</td>\n",
              "      <td>501.831579</td>\n",
              "      <td>492.540816</td>\n",
              "      <td>498.357143</td>\n",
              "      <td>509.569231</td>\n",
              "      <td>501.695652</td>\n",
              "      <td>500.784314</td>\n",
              "      <td>505.042105</td>\n",
              "    </tr>\n",
              "    <tr>\n",
              "      <th>75%</th>\n",
              "      <td>502.000000</td>\n",
              "      <td>503.094987</td>\n",
              "      <td>496.600000</td>\n",
              "      <td>509.603448</td>\n",
              "      <td>515.545000</td>\n",
              "      <td>510.818182</td>\n",
              "      <td>510.750000</td>\n",
              "      <td>513.115000</td>\n",
              "    </tr>\n",
              "    <tr>\n",
              "      <th>max</th>\n",
              "      <td>521.400000</td>\n",
              "      <td>514.184615</td>\n",
              "      <td>529.000000</td>\n",
              "      <td>524.968421</td>\n",
              "      <td>535.000000</td>\n",
              "      <td>528.369231</td>\n",
              "      <td>557.250000</td>\n",
              "      <td>586.000000</td>\n",
              "    </tr>\n",
              "  </tbody>\n",
              "</table>\n",
              "</div>"
            ],
            "text/plain": [
              "       rata2_score_bio  rata2_score_fis  ...  rata2_score_mat  rata2_score_ppu\n",
              "count        21.000000        21.000000  ...        21.000000        21.000000\n",
              "mean        493.647895       492.382943  ...       500.665395       507.942544\n",
              "std          14.678896        21.949661  ...        21.893818        23.925608\n",
              "min         454.526316       423.000000  ...       463.178571       476.000000\n",
              "25%         489.327586       485.000000  ...       489.105263       500.353365\n",
              "50%         495.469388       501.831579  ...       500.784314       505.042105\n",
              "75%         502.000000       503.094987  ...       510.750000       513.115000\n",
              "max         521.400000       514.184615  ...       557.250000       586.000000\n",
              "\n",
              "[8 rows x 8 columns]"
            ]
          },
          "metadata": {
            "tags": []
          },
          "execution_count": 23
        }
      ]
    },
    {
      "cell_type": "code",
      "metadata": {
        "colab": {
          "base_uri": "https://localhost:8080/"
        },
        "id": "xTdNFbums9y-",
        "outputId": "cfdd4666-a739-4d1b-a36a-220ce78c04c5"
      },
      "source": [
        "# Mana saja PTN yang termasuk cluster 1 ?\n",
        "\n",
        "df_akhir[df_akhir['cluster'] == 1].reset_index()['University Name (First Choice)']"
      ],
      "execution_count": 36,
      "outputs": [
        {
          "output_type": "execute_result",
          "data": {
            "text/plain": [
              "0                     INSTITUT TEKNOLOGI KALIMANTAN\n",
              "1                               UNIVERSITAS ANDALAS\n",
              "2                              UNIVERSITAS BENGKULU\n",
              "3                          UNIVERSITAS CENDERAWASIH\n",
              "4                            UNIVERSITAS HASANUDDIN\n",
              "5                  UNIVERSITAS ISLAM NEGERI JAKARTA\n",
              "6                   UNIVERSITAS ISLAM NEGERI MALANG\n",
              "7     UNIVERSITAS ISLAM NEGERI SUNAN AMPEL SURABAYA\n",
              "8       UNIVERSITAS ISLAM NEGERI SUNAN GUNUNG DJATI\n",
              "9           UNIVERSITAS ISLAM NEGERI SUNAN KALIJAGA\n",
              "10               UNIVERSITAS ISLAM NEGERI WALISONGO\n",
              "11                                UNIVERSITAS JAMBI\n",
              "12                               UNIVERSITAS JEMBER\n",
              "13                   UNIVERSITAS JENDERAL SOEDIRMAN\n",
              "14                              UNIVERSITAS KHAIRUN\n",
              "15                    UNIVERSITAS LAMBUNG MANGKURAT\n",
              "16                              UNIVERSITAS LAMPUNG\n",
              "17                         UNIVERSITAS MALIKUSSALEH\n",
              "18                              UNIVERSITAS MATARAM\n",
              "19                           UNIVERSITAS MULAWARMAN\n",
              "20                      UNIVERSITAS MUSAMUS MERAUKE\n",
              "21                       UNIVERSITAS NEGERI JAKARTA\n",
              "22                        UNIVERSITAS NEGERI MALANG\n",
              "23                      UNIVERSITAS NEGERI SEMARANG\n",
              "24                      UNIVERSITAS NEGERI SURABAYA\n",
              "25                    UNIVERSITAS NEGERI YOGYAKARTA\n",
              "26                         UNIVERSITAS NUSA CENDANA\n",
              "27                            UNIVERSITAS PATTIMURA\n",
              "28                   UNIVERSITAS PENDIDIKAN GANESHA\n",
              "29                 UNIVERSITAS PENDIDIKAN INDONESIA\n",
              "30                                 UNIVERSITAS RIAU\n",
              "31                        UNIVERSITAS SAM RATULANGI\n",
              "32                              UNIVERSITAS SAMUDRA\n",
              "33                            UNIVERSITAS SILIWANGI\n",
              "34              UNIVERSITAS SINGAPERBANGSA KARAWANG\n",
              "35                            UNIVERSITAS SRIWIJAYA\n",
              "36               UNIVERSITAS SULTAN AGENG TIRTAYASA\n",
              "37                       UNIVERSITAS SUMATERA UTARA\n",
              "38                          UNIVERSITAS SYIAH KUALA\n",
              "39                             UNIVERSITAS TADULAKO\n",
              "40                          UNIVERSITAS TANJUNGPURA\n",
              "41                           UNIVERSITAS TEUKU UMAR\n",
              "42                                UNIVERSITAS TIDAR\n",
              "43                            UPN \"VETERAN\" JAKARTA\n",
              "44                         UPN \"VETERAN\" JAWA TIMUR\n",
              "Name: University Name (First Choice), dtype: object"
            ]
          },
          "metadata": {
            "tags": []
          },
          "execution_count": 36
        }
      ]
    },
    {
      "cell_type": "code",
      "metadata": {
        "colab": {
          "base_uri": "https://localhost:8080/",
          "height": 297
        },
        "id": "LbahrBZFt-dT",
        "outputId": "6c1d17ef-e2c1-464e-952e-715dbf8e26f5"
      },
      "source": [
        "# Statistik deskriptif PTN cluster 1 \n",
        "\n",
        "df_akhir[df_akhir['cluster'] == 1].drop('cluster', axis = 1).describe()"
      ],
      "execution_count": 25,
      "outputs": [
        {
          "output_type": "execute_result",
          "data": {
            "text/html": [
              "<div>\n",
              "<style scoped>\n",
              "    .dataframe tbody tr th:only-of-type {\n",
              "        vertical-align: middle;\n",
              "    }\n",
              "\n",
              "    .dataframe tbody tr th {\n",
              "        vertical-align: top;\n",
              "    }\n",
              "\n",
              "    .dataframe thead th {\n",
              "        text-align: right;\n",
              "    }\n",
              "</style>\n",
              "<table border=\"1\" class=\"dataframe\">\n",
              "  <thead>\n",
              "    <tr style=\"text-align: right;\">\n",
              "      <th></th>\n",
              "      <th>rata2_score_bio</th>\n",
              "      <th>rata2_score_fis</th>\n",
              "      <th>rata2_score_kim</th>\n",
              "      <th>rata2_score_kmb</th>\n",
              "      <th>rata2_score_kpu</th>\n",
              "      <th>rata2_score_kua</th>\n",
              "      <th>rata2_score_mat</th>\n",
              "      <th>rata2_score_ppu</th>\n",
              "    </tr>\n",
              "  </thead>\n",
              "  <tbody>\n",
              "    <tr>\n",
              "      <th>count</th>\n",
              "      <td>45.000000</td>\n",
              "      <td>45.000000</td>\n",
              "      <td>45.000000</td>\n",
              "      <td>45.000000</td>\n",
              "      <td>45.000000</td>\n",
              "      <td>45.000000</td>\n",
              "      <td>45.000000</td>\n",
              "      <td>45.000000</td>\n",
              "    </tr>\n",
              "    <tr>\n",
              "      <th>mean</th>\n",
              "      <td>516.284552</td>\n",
              "      <td>516.884686</td>\n",
              "      <td>519.341339</td>\n",
              "      <td>539.148692</td>\n",
              "      <td>542.172460</td>\n",
              "      <td>536.438565</td>\n",
              "      <td>516.042152</td>\n",
              "      <td>526.135203</td>\n",
              "    </tr>\n",
              "    <tr>\n",
              "      <th>std</th>\n",
              "      <td>12.084868</td>\n",
              "      <td>8.932859</td>\n",
              "      <td>11.659937</td>\n",
              "      <td>13.190847</td>\n",
              "      <td>12.304801</td>\n",
              "      <td>12.891500</td>\n",
              "      <td>11.353748</td>\n",
              "      <td>12.634854</td>\n",
              "    </tr>\n",
              "    <tr>\n",
              "      <th>min</th>\n",
              "      <td>473.333333</td>\n",
              "      <td>497.678261</td>\n",
              "      <td>495.661088</td>\n",
              "      <td>501.906250</td>\n",
              "      <td>516.283422</td>\n",
              "      <td>515.301965</td>\n",
              "      <td>450.333333</td>\n",
              "      <td>477.437500</td>\n",
              "    </tr>\n",
              "    <tr>\n",
              "      <th>25%</th>\n",
              "      <td>508.473684</td>\n",
              "      <td>509.012658</td>\n",
              "      <td>512.870270</td>\n",
              "      <td>530.821192</td>\n",
              "      <td>532.051020</td>\n",
              "      <td>526.095652</td>\n",
              "      <td>513.202532</td>\n",
              "      <td>521.653422</td>\n",
              "    </tr>\n",
              "    <tr>\n",
              "      <th>50%</th>\n",
              "      <td>518.267206</td>\n",
              "      <td>518.127737</td>\n",
              "      <td>519.820383</td>\n",
              "      <td>539.172932</td>\n",
              "      <td>541.873418</td>\n",
              "      <td>535.928776</td>\n",
              "      <td>517.648840</td>\n",
              "      <td>526.891304</td>\n",
              "    </tr>\n",
              "    <tr>\n",
              "      <th>75%</th>\n",
              "      <td>525.451133</td>\n",
              "      <td>523.746544</td>\n",
              "      <td>525.882488</td>\n",
              "      <td>550.154378</td>\n",
              "      <td>553.108749</td>\n",
              "      <td>548.612789</td>\n",
              "      <td>520.591429</td>\n",
              "      <td>535.920000</td>\n",
              "    </tr>\n",
              "    <tr>\n",
              "      <th>max</th>\n",
              "      <td>541.036496</td>\n",
              "      <td>535.270588</td>\n",
              "      <td>548.906250</td>\n",
              "      <td>563.928000</td>\n",
              "      <td>568.500000</td>\n",
              "      <td>561.841014</td>\n",
              "      <td>535.320000</td>\n",
              "      <td>542.620584</td>\n",
              "    </tr>\n",
              "  </tbody>\n",
              "</table>\n",
              "</div>"
            ],
            "text/plain": [
              "       rata2_score_bio  rata2_score_fis  ...  rata2_score_mat  rata2_score_ppu\n",
              "count        45.000000        45.000000  ...        45.000000        45.000000\n",
              "mean        516.284552       516.884686  ...       516.042152       526.135203\n",
              "std          12.084868         8.932859  ...        11.353748        12.634854\n",
              "min         473.333333       497.678261  ...       450.333333       477.437500\n",
              "25%         508.473684       509.012658  ...       513.202532       521.653422\n",
              "50%         518.267206       518.127737  ...       517.648840       526.891304\n",
              "75%         525.451133       523.746544  ...       520.591429       535.920000\n",
              "max         541.036496       535.270588  ...       535.320000       542.620584\n",
              "\n",
              "[8 rows x 8 columns]"
            ]
          },
          "metadata": {
            "tags": []
          },
          "execution_count": 25
        }
      ]
    },
    {
      "cell_type": "code",
      "metadata": {
        "colab": {
          "base_uri": "https://localhost:8080/"
        },
        "id": "aPkMIAkwtf7Y",
        "outputId": "19aa8129-0b29-4228-84db-c1192fd9db1d"
      },
      "source": [
        "# Mana saja PTN yang termasuk cluster 2 ?\n",
        "\n",
        "df_akhir[df_akhir['cluster'] == 2].reset_index()['University Name (First Choice)']"
      ],
      "execution_count": 34,
      "outputs": [
        {
          "output_type": "execute_result",
          "data": {
            "text/plain": [
              "0                INSTITUT PERTANIAN BOGOR\n",
              "1              INSTITUT TEKNOLOGI BANDUNG\n",
              "2     INSTITUT TEKNOLOGI SEPULUH NOPEMBER\n",
              "3                   UNIVERSITAS AIRLANGGA\n",
              "4                   UNIVERSITAS BRAWIJAYA\n",
              "5                  UNIVERSITAS DIPONEGORO\n",
              "6                 UNIVERSITAS GADJAH MADA\n",
              "7                   UNIVERSITAS INDONESIA\n",
              "8                 UNIVERSITAS PADJADJARAN\n",
              "9               UNIVERSITAS SEBELAS MARET\n",
              "10                    UNIVERSITAS UDAYANA\n",
              "11               UPN \"VETERAN\" YOGYAKARTA\n",
              "Name: University Name (First Choice), dtype: object"
            ]
          },
          "metadata": {
            "tags": []
          },
          "execution_count": 34
        }
      ]
    },
    {
      "cell_type": "code",
      "metadata": {
        "colab": {
          "base_uri": "https://localhost:8080/",
          "height": 297
        },
        "id": "I4eVFtfkvPii",
        "outputId": "02ce0f1f-7654-4c1f-d85e-065a84ebdd15"
      },
      "source": [
        "# Statistik deskriptif PTN cluster 2 \n",
        "\n",
        "df_akhir[df_akhir['cluster'] == 2].drop('cluster', axis = 1).describe()"
      ],
      "execution_count": 27,
      "outputs": [
        {
          "output_type": "execute_result",
          "data": {
            "text/html": [
              "<div>\n",
              "<style scoped>\n",
              "    .dataframe tbody tr th:only-of-type {\n",
              "        vertical-align: middle;\n",
              "    }\n",
              "\n",
              "    .dataframe tbody tr th {\n",
              "        vertical-align: top;\n",
              "    }\n",
              "\n",
              "    .dataframe thead th {\n",
              "        text-align: right;\n",
              "    }\n",
              "</style>\n",
              "<table border=\"1\" class=\"dataframe\">\n",
              "  <thead>\n",
              "    <tr style=\"text-align: right;\">\n",
              "      <th></th>\n",
              "      <th>rata2_score_bio</th>\n",
              "      <th>rata2_score_fis</th>\n",
              "      <th>rata2_score_kim</th>\n",
              "      <th>rata2_score_kmb</th>\n",
              "      <th>rata2_score_kpu</th>\n",
              "      <th>rata2_score_kua</th>\n",
              "      <th>rata2_score_mat</th>\n",
              "      <th>rata2_score_ppu</th>\n",
              "    </tr>\n",
              "  </thead>\n",
              "  <tbody>\n",
              "    <tr>\n",
              "      <th>count</th>\n",
              "      <td>12.000000</td>\n",
              "      <td>12.000000</td>\n",
              "      <td>12.000000</td>\n",
              "      <td>12.000000</td>\n",
              "      <td>12.000000</td>\n",
              "      <td>12.000000</td>\n",
              "      <td>12.000000</td>\n",
              "      <td>12.000000</td>\n",
              "    </tr>\n",
              "    <tr>\n",
              "      <th>mean</th>\n",
              "      <td>552.072846</td>\n",
              "      <td>555.358100</td>\n",
              "      <td>566.281047</td>\n",
              "      <td>585.904732</td>\n",
              "      <td>591.767248</td>\n",
              "      <td>594.443335</td>\n",
              "      <td>538.987273</td>\n",
              "      <td>556.919271</td>\n",
              "    </tr>\n",
              "    <tr>\n",
              "      <th>std</th>\n",
              "      <td>16.880969</td>\n",
              "      <td>22.845072</td>\n",
              "      <td>28.256947</td>\n",
              "      <td>17.621852</td>\n",
              "      <td>19.365154</td>\n",
              "      <td>29.221232</td>\n",
              "      <td>14.555248</td>\n",
              "      <td>10.805033</td>\n",
              "    </tr>\n",
              "    <tr>\n",
              "      <th>min</th>\n",
              "      <td>529.827566</td>\n",
              "      <td>530.773388</td>\n",
              "      <td>536.433469</td>\n",
              "      <td>565.797136</td>\n",
              "      <td>573.208234</td>\n",
              "      <td>562.689134</td>\n",
              "      <td>523.998257</td>\n",
              "      <td>543.942475</td>\n",
              "    </tr>\n",
              "    <tr>\n",
              "      <th>25%</th>\n",
              "      <td>540.063053</td>\n",
              "      <td>541.699987</td>\n",
              "      <td>546.432455</td>\n",
              "      <td>572.990501</td>\n",
              "      <td>578.472214</td>\n",
              "      <td>574.271811</td>\n",
              "      <td>529.313705</td>\n",
              "      <td>550.954233</td>\n",
              "    </tr>\n",
              "    <tr>\n",
              "      <th>50%</th>\n",
              "      <td>547.185901</td>\n",
              "      <td>543.861507</td>\n",
              "      <td>557.267638</td>\n",
              "      <td>579.609753</td>\n",
              "      <td>582.810199</td>\n",
              "      <td>583.333976</td>\n",
              "      <td>533.784319</td>\n",
              "      <td>552.752031</td>\n",
              "    </tr>\n",
              "    <tr>\n",
              "      <th>75%</th>\n",
              "      <td>559.904921</td>\n",
              "      <td>570.056677</td>\n",
              "      <td>580.734946</td>\n",
              "      <td>599.248925</td>\n",
              "      <td>609.534158</td>\n",
              "      <td>617.216745</td>\n",
              "      <td>547.461975</td>\n",
              "      <td>565.835210</td>\n",
              "    </tr>\n",
              "    <tr>\n",
              "      <th>max</th>\n",
              "      <td>588.152127</td>\n",
              "      <td>613.455158</td>\n",
              "      <td>633.718090</td>\n",
              "      <td>622.134374</td>\n",
              "      <td>633.620141</td>\n",
              "      <td>661.088154</td>\n",
              "      <td>575.340373</td>\n",
              "      <td>580.377104</td>\n",
              "    </tr>\n",
              "  </tbody>\n",
              "</table>\n",
              "</div>"
            ],
            "text/plain": [
              "       rata2_score_bio  rata2_score_fis  ...  rata2_score_mat  rata2_score_ppu\n",
              "count        12.000000        12.000000  ...        12.000000        12.000000\n",
              "mean        552.072846       555.358100  ...       538.987273       556.919271\n",
              "std          16.880969        22.845072  ...        14.555248        10.805033\n",
              "min         529.827566       530.773388  ...       523.998257       543.942475\n",
              "25%         540.063053       541.699987  ...       529.313705       550.954233\n",
              "50%         547.185901       543.861507  ...       533.784319       552.752031\n",
              "75%         559.904921       570.056677  ...       547.461975       565.835210\n",
              "max         588.152127       613.455158  ...       575.340373       580.377104\n",
              "\n",
              "[8 rows x 8 columns]"
            ]
          },
          "metadata": {
            "tags": []
          },
          "execution_count": 27
        }
      ]
    },
    {
      "cell_type": "code",
      "metadata": {
        "colab": {
          "base_uri": "https://localhost:8080/",
          "height": 786
        },
        "id": "EwR6lYEgxVsU",
        "outputId": "8a0bce8a-25d8-4296-94e0-aa4af0113afb"
      },
      "source": [
        "# Plot 2 : Visualisasi Hasil Cluster dengan Metode K-Means ++ \n",
        "\n",
        "df_akhir['rata2_total_skor_ipa'] = (df_akhir['rata2_score_bio'] + df_akhir['rata2_score_fis'] + df_akhir['rata2_score_kim'] + df_akhir['rata2_score_mat']) / 4\n",
        "df_akhir['rata2_total_skor_dasar'] = (df_akhir['rata2_score_kmb'] + df_akhir['rata2_score_kpu'] + df_akhir['rata2_score_kua'] + df_akhir['rata2_score_ppu']) / 4\n",
        "\n",
        "centroids = algorithm1.cluster_centers_\n",
        "X_centroids = [x[0] for x in centroids] \n",
        "y_centroids = [y[1] for y in centroids]\n",
        "\n",
        "# Tambahkan sebagai kolom baru di dataframe\n",
        "df_akhir['X_centroids'] = df_akhir['cluster'].map({0:X_centroids[0], 1:X_centroids[1], 2:X_centroids[2]})\n",
        "df_akhir['y_centroids'] = df_akhir['cluster'].map({0:y_centroids[0], 1:y_centroids[1], 2:y_centroids[2]})\n",
        "\n",
        "## Definisikan warnanya\n",
        "colors = ['#DF2020', '#81DF20', '#2095DF']\n",
        "df_akhir['centroid_colors'] = df_akhir['cluster'].map({0:colors[0], 1:colors[1], 2:colors[2]})\n",
        "\n",
        "from matplotlib.lines import Line2D\n",
        "fig, ax = plt.subplots(1, figsize=(12,12))\n",
        "\n",
        "# plot data\n",
        "plt.scatter(df_akhir['rata2_total_skor_dasar'], df_akhir['rata2_total_skor_ipa'], c=df_akhir['centroid_colors'], alpha = 0.9, s=20)\n",
        "\n",
        "#Legend dari plot\n",
        "legends = [Line2D([0], [0], marker='o', color='w', label='Cluster {}'.format(i), \n",
        "               markerfacecolor=marker_color, markersize=5) for i, marker_color in enumerate(colors)]\n",
        "\n",
        "# plot legend\n",
        "plt.legend(handles=legends, loc='upper right', fontsize = 16)\n",
        "\n",
        "\n",
        "plt.title('\\nVisualisasi Hasil Cluster dengan K-Means ++', loc='center', fontsize=22)\n",
        "plt.xlabel('Rata-rata Skor Kemampuan Dasar', fontsize = 14)\n",
        "plt.ylabel('Rata-rata Skor Kemampuan IPA', fontsize = 14)"
      ],
      "execution_count": 30,
      "outputs": [
        {
          "output_type": "execute_result",
          "data": {
            "text/plain": [
              "Text(0, 0.5, 'Rata-rata Skor Kemampuan IPA')"
            ]
          },
          "metadata": {
            "tags": []
          },
          "execution_count": 30
        },
        {
          "output_type": "display_data",
          "data": {
            "image/png": "[encoded data removed]",
            "text/plain": [
              "<Figure size 864x864 with 1 Axes>"
            ]
          },
          "metadata": {
            "tags": []
          }
        }
      ]
    }
  ]
}